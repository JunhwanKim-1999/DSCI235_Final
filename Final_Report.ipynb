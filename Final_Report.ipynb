{
 "cells": [
  {
   "attachments": {},
   "cell_type": "markdown",
   "metadata": {},
   "source": [
    "https://github.com/audezeHx/DSCI235_Final/blob/main/Final_Report.ipynb"
   ]
  },
  {
   "attachments": {},
   "cell_type": "markdown",
   "metadata": {},
   "source": [
    "#  DSCI 235 spr 2023 Final Report\n",
    "\n",
    "---"
   ]
  },
  {
   "attachments": {},
   "cell_type": "markdown",
   "metadata": {},
   "source": [
    "## **Team member**\n",
    "Junhwan Kim\n",
    "\n",
    "---"
   ]
  },
  {
   "attachments": {},
   "cell_type": "markdown",
   "metadata": {},
   "source": [
    "## **Topic** \n",
    "The relation between IVC (Inverted Yield Curve) and future economic conditions.\n",
    "\n",
    "---"
   ]
  },
  {
   "attachments": {},
   "cell_type": "markdown",
   "metadata": {},
   "source": [
    "## **Interest** \n",
    "I choose this topic because I heard about the IVC recently from the news and it seems to be used as important features to predict future economic condition. According to the news, IVC happens when long-term interest rates is lower than the short-term interest rates and it can lead to adverse economic conditions such as recession or depression. However, I have not studied this kind of economics before, so I want to understand more about this subject and to see if the claim made in the news is actually true.\n",
    "\n",
    "---"
   ]
  },
  {
   "attachments": {},
   "cell_type": "markdown",
   "metadata": {},
   "source": [
    "## **Data**\n",
    "\n",
    "I will use\n",
    "- Yearly long term interest rates as LIR_Y\n",
    "- Yearly short term interest rates as SIR_Y\n",
    "- Yearly gross national income as GNI_Y\n",
    "- Yearly Inverted Yield Curve as IVC_Y\n",
    "- Quarterly long term interest rates as LIR_Q\n",
    "- Quarterly short term interest rates as SIR_Q\n",
    "- Quarterly Gross domestic product compare to previous quarter as GDP_Q\n",
    "- Quarterly unemployment rate as UPR_Q\n",
    "- Quarterly Inverted Yield Curve as IVC_Q\n",
    "\n",
    "IVC data can be obtained by subtracting the short-term interest rate (SIR) from the long-term interest rate (LIS) and collecting negative quarters.\n",
    "\n",
    "- The countries that have been selected are 16 countries. Austrailia(AUS), Austria(AUT), Belgium(BEL), Canada(CAN), Denmark(DNK), Finland(FIN), Germany(DEU), Ireland(IRL), Italy(ITA), Netherland(NLD), Norway(NOR), Portugal(PRT), Spain(ESP), Sweden(SWE), United Kingdom(GBR), United States(USA).\n",
    "- The standard for country selection is whether LIR, SIR, GNI, GDP, and UPR are all provided by the OECD site.\n",
    "- The period that have been selected are after 1995.\n",
    "- The standard for determining the period is the maximum value provided by the OECD site for LIR, SIR, GNI, GDP, and UPR."
   ]
  },
  {
   "cell_type": "code",
   "execution_count": 453,
   "metadata": {},
   "outputs": [],
   "source": [
    "import numpy as np\n",
    "import pandas as pd\n",
    "import matplotlib.pyplot as plt"
   ]
  },
  {
   "cell_type": "code",
   "execution_count": 454,
   "metadata": {},
   "outputs": [],
   "source": [
    "LIR_Y = pd.read_csv(\"https://github.com/audezeHx/DSCI235_Final/raw/main/datasets/Long_term_interest_rates_yearly.csv\")\n",
    "SIR_Y = pd.read_csv(\"https://github.com/audezeHx/DSCI235_Final/raw/main/datasets/Short_term_interest_rates_quarterly.csv\")\n",
    "GNI_Y = pd.read_csv(\"https://github.com/audezeHx/DSCI235_Final/raw/main/datasets/Gross_national_income_yearly.csv\")\n",
    "LIR_Q = pd.read_csv(\"https://github.com/audezeHx/DSCI235_Final/raw/main/datasets/Long_term_interest_rates_qurterly.csv\")\n",
    "SIR_Q = pd.read_csv(\"https://github.com/audezeHx/DSCI235_Final/raw/main/datasets/Short_term_interest_rates_quarterly.csv\")\n",
    "GDP_Q = pd.read_csv(\"https://github.com/audezeHx/DSCI235_Final/raw/main/datasets/GDP_Quarterly.csv\")\n",
    "UPR_Q = pd.read_csv(\"https://github.com/audezeHx/DSCI235_Final/raw/main/datasets/Unemployment_rate_quarterly.csv\")"
   ]
  },
  {
   "attachments": {},
   "cell_type": "markdown",
   "metadata": {},
   "source": [
    "---"
   ]
  },
  {
   "attachments": {},
   "cell_type": "markdown",
   "metadata": {},
   "source": [
    "## **Source**\n",
    "All the datasets are from OECD Data website(https://data.oecd.org/). Since this is the official OECD site, the reliability of the data is very high and use for non-commercial purposes is permitted.\n",
    "\n",
    "---"
   ]
  },
  {
   "attachments": {},
   "cell_type": "markdown",
   "metadata": {},
   "source": [
    "## **Question**\n",
    "**Main question: Can IVC indicators predict future economic conditions?**\n",
    "\n",
    "Three steps to solve the main question\n",
    "- 0. Merge the data\n",
    "- 1. Find the country and period that IVC happens\n",
    "- 2. Find the country and period that economic recession happens\n",
    "- 3. Check if there is a correlation between the data from the previous two steps"
   ]
  },
  {
   "attachments": {},
   "cell_type": "markdown",
   "metadata": {},
   "source": [
    "## Step 0: Merge the data"
   ]
  },
  {
   "attachments": {},
   "cell_type": "markdown",
   "metadata": {},
   "source": [
    "### Merge data of GNI_Y, LIR_Y, SIR_Y"
   ]
  },
  {
   "cell_type": "code",
   "execution_count": 455,
   "metadata": {},
   "outputs": [
    {
     "data": {
      "text/html": [
       "<div>\n",
       "<style scoped>\n",
       "    .dataframe tbody tr th:only-of-type {\n",
       "        vertical-align: middle;\n",
       "    }\n",
       "\n",
       "    .dataframe tbody tr th {\n",
       "        vertical-align: top;\n",
       "    }\n",
       "\n",
       "    .dataframe thead th {\n",
       "        text-align: right;\n",
       "    }\n",
       "</style>\n",
       "<table border=\"1\" class=\"dataframe\">\n",
       "  <thead>\n",
       "    <tr style=\"text-align: right;\">\n",
       "      <th></th>\n",
       "      <th>Location</th>\n",
       "      <th>Time_Y</th>\n",
       "      <th>GNI_Y</th>\n",
       "      <th>LIR_Y</th>\n",
       "      <th>SIR_Y</th>\n",
       "    </tr>\n",
       "  </thead>\n",
       "  <tbody>\n",
       "    <tr>\n",
       "      <th>0</th>\n",
       "      <td>AUS</td>\n",
       "      <td>1995</td>\n",
       "      <td>21649.133893</td>\n",
       "      <td>9.210896</td>\n",
       "      <td>8.193334</td>\n",
       "    </tr>\n",
       "    <tr>\n",
       "      <th>1</th>\n",
       "      <td>AUS</td>\n",
       "      <td>1996</td>\n",
       "      <td>22507.576692</td>\n",
       "      <td>8.209207</td>\n",
       "      <td>7.713333</td>\n",
       "    </tr>\n",
       "    <tr>\n",
       "      <th>2</th>\n",
       "      <td>AUS</td>\n",
       "      <td>1997</td>\n",
       "      <td>23706.226955</td>\n",
       "      <td>6.954918</td>\n",
       "      <td>7.543334</td>\n",
       "    </tr>\n",
       "    <tr>\n",
       "      <th>3</th>\n",
       "      <td>AUS</td>\n",
       "      <td>1998</td>\n",
       "      <td>24906.013150</td>\n",
       "      <td>5.492970</td>\n",
       "      <td>7.453333</td>\n",
       "    </tr>\n",
       "    <tr>\n",
       "      <th>4</th>\n",
       "      <td>AUS</td>\n",
       "      <td>1999</td>\n",
       "      <td>26356.744688</td>\n",
       "      <td>6.009312</td>\n",
       "      <td>7.486667</td>\n",
       "    </tr>\n",
       "  </tbody>\n",
       "</table>\n",
       "</div>"
      ],
      "text/plain": [
       "  Location  Time_Y         GNI_Y     LIR_Y     SIR_Y\n",
       "0      AUS    1995  21649.133893  9.210896  8.193334\n",
       "1      AUS    1996  22507.576692  8.209207  7.713333\n",
       "2      AUS    1997  23706.226955  6.954918  7.543334\n",
       "3      AUS    1998  24906.013150  5.492970  7.453333\n",
       "4      AUS    1999  26356.744688  6.009312  7.486667"
      ]
     },
     "execution_count": 455,
     "metadata": {},
     "output_type": "execute_result"
    }
   ],
   "source": [
    "Value_Yealy = pd.DataFrame()\n",
    "Value_Yealy['Location'] = GNI_Y['LOCATION']\n",
    "Value_Yealy['Time_Y'] = GNI_Y['TIME']\n",
    "Value_Yealy['GNI_Y'] = GNI_Y['Value']\n",
    "Value_Yealy['LIR_Y'] = LIR_Y['Value']\n",
    "Value_Yealy['SIR_Y'] = SIR_Y['Value']\n",
    "Value_Yealy.head()"
   ]
  },
  {
   "attachments": {},
   "cell_type": "markdown",
   "metadata": {},
   "source": [
    "### Merge data of LIR_Q, SIR_Q, GDP_Q, UPR_Q without 2023-Q1"
   ]
  },
  {
   "attachments": {},
   "cell_type": "markdown",
   "metadata": {},
   "source": [
    "- Remove 2023-Q1 from LIR_Q and SIR_Q"
   ]
  },
  {
   "cell_type": "code",
   "execution_count": 456,
   "metadata": {},
   "outputs": [],
   "source": [
    "LIR_2022_Q4 = LIR_Q[LIR_Q['TIME'] != '2023-Q1']\n",
    "SIR_2022_Q4 = SIR_Q[SIR_Q['TIME'] != '2023-Q1']"
   ]
  },
  {
   "attachments": {},
   "cell_type": "markdown",
   "metadata": {},
   "source": [
    "- Merge data of LIR_Q, SIR_Q, GDP_Q, UPR_Q"
   ]
  },
  {
   "cell_type": "code",
   "execution_count": 457,
   "metadata": {},
   "outputs": [
    {
     "data": {
      "text/html": [
       "<div>\n",
       "<style scoped>\n",
       "    .dataframe tbody tr th:only-of-type {\n",
       "        vertical-align: middle;\n",
       "    }\n",
       "\n",
       "    .dataframe tbody tr th {\n",
       "        vertical-align: top;\n",
       "    }\n",
       "\n",
       "    .dataframe thead th {\n",
       "        text-align: right;\n",
       "    }\n",
       "</style>\n",
       "<table border=\"1\" class=\"dataframe\">\n",
       "  <thead>\n",
       "    <tr style=\"text-align: right;\">\n",
       "      <th></th>\n",
       "      <th>Location</th>\n",
       "      <th>Time_Q</th>\n",
       "      <th>LIR_Q</th>\n",
       "      <th>SIR_Q</th>\n",
       "      <th>GDP_Q</th>\n",
       "      <th>UPR_Q</th>\n",
       "    </tr>\n",
       "  </thead>\n",
       "  <tbody>\n",
       "    <tr>\n",
       "      <th>0</th>\n",
       "      <td>AUS</td>\n",
       "      <td>1995-Q1</td>\n",
       "      <td>10.206270</td>\n",
       "      <td>8.193334</td>\n",
       "      <td>0.012790</td>\n",
       "      <td>8.764897</td>\n",
       "    </tr>\n",
       "    <tr>\n",
       "      <th>1</th>\n",
       "      <td>AUS</td>\n",
       "      <td>1995-Q2</td>\n",
       "      <td>9.253700</td>\n",
       "      <td>7.713333</td>\n",
       "      <td>0.419946</td>\n",
       "      <td>8.364933</td>\n",
       "    </tr>\n",
       "    <tr>\n",
       "      <th>2</th>\n",
       "      <td>AUS</td>\n",
       "      <td>1995-Q3</td>\n",
       "      <td>8.964148</td>\n",
       "      <td>7.543334</td>\n",
       "      <td>2.261020</td>\n",
       "      <td>8.368115</td>\n",
       "    </tr>\n",
       "    <tr>\n",
       "      <th>3</th>\n",
       "      <td>AUS</td>\n",
       "      <td>1995-Q4</td>\n",
       "      <td>8.419457</td>\n",
       "      <td>7.453333</td>\n",
       "      <td>-0.018881</td>\n",
       "      <td>8.389695</td>\n",
       "    </tr>\n",
       "    <tr>\n",
       "      <th>4</th>\n",
       "      <td>AUS</td>\n",
       "      <td>1996-Q1</td>\n",
       "      <td>8.389683</td>\n",
       "      <td>7.486667</td>\n",
       "      <td>1.647736</td>\n",
       "      <td>8.399638</td>\n",
       "    </tr>\n",
       "  </tbody>\n",
       "</table>\n",
       "</div>"
      ],
      "text/plain": [
       "  Location   Time_Q      LIR_Q     SIR_Q     GDP_Q     UPR_Q\n",
       "0      AUS  1995-Q1  10.206270  8.193334  0.012790  8.764897\n",
       "1      AUS  1995-Q2   9.253700  7.713333  0.419946  8.364933\n",
       "2      AUS  1995-Q3   8.964148  7.543334  2.261020  8.368115\n",
       "3      AUS  1995-Q4   8.419457  7.453333 -0.018881  8.389695\n",
       "4      AUS  1996-Q1   8.389683  7.486667  1.647736  8.399638"
      ]
     },
     "execution_count": 457,
     "metadata": {},
     "output_type": "execute_result"
    }
   ],
   "source": [
    "Value_Quarterly = pd.DataFrame()\n",
    "Value_Quarterly['Location'] = GDP_Q['LOCATION']\n",
    "Value_Quarterly['Time_Q'] = GDP_Q['TIME']\n",
    "Value_Quarterly['LIR_Q'] = LIR_2022_Q4['Value']\n",
    "Value_Quarterly['SIR_Q'] = SIR_2022_Q4['Value']\n",
    "Value_Quarterly['GDP_Q'] = GDP_Q['Value']\n",
    "Value_Quarterly['UPR_Q'] = UPR_Q['Value']\n",
    "Value_Quarterly.head()"
   ]
  },
  {
   "attachments": {},
   "cell_type": "markdown",
   "metadata": {},
   "source": [
    "### Merge data of LIR_Q and SIR_Q of 2023-Q1"
   ]
  },
  {
   "attachments": {},
   "cell_type": "markdown",
   "metadata": {},
   "source": [
    "- Find 2023-Q1 data of LIR_Q, SIR_Q"
   ]
  },
  {
   "cell_type": "code",
   "execution_count": 458,
   "metadata": {},
   "outputs": [],
   "source": [
    "LIR_2023 = LIR_Q[LIR_Q['TIME'] == '2023-Q1']\n",
    "SIR_2023 = SIR_Q[SIR_Q['TIME'] == '2023-Q1']"
   ]
  },
  {
   "attachments": {},
   "cell_type": "markdown",
   "metadata": {},
   "source": [
    "- Merge 2023-Q1 data of LIR_Q, SIR_Q"
   ]
  },
  {
   "cell_type": "code",
   "execution_count": 459,
   "metadata": {},
   "outputs": [],
   "source": [
    "LIR_SIR_2023 = pd.DataFrame()\n",
    "LIR_SIR_2023['Location'] = LIR_2023['LOCATION']\n",
    "LIR_SIR_2023['Time_Q'] = LIR_2023['TIME']\n",
    "LIR_SIR_2023['LIR_Q'] = LIR_2023['Value']\n",
    "LIR_SIR_2023['SIR_Q'] = SIR_2023['Value']\n",
    "LIR_SIR_2023 = LIR_SIR_2023.reset_index().drop(['index'], axis=1)"
   ]
  },
  {
   "attachments": {},
   "cell_type": "markdown",
   "metadata": {},
   "source": [
    "## Step 1: Find the country and period that IVC happens"
   ]
  },
  {
   "attachments": {},
   "cell_type": "markdown",
   "metadata": {},
   "source": [
    "### Substract SIR_Y from LIR_Y to find IVC_Y"
   ]
  },
  {
   "cell_type": "code",
   "execution_count": 460,
   "metadata": {},
   "outputs": [
    {
     "data": {
      "text/html": [
       "<div>\n",
       "<style scoped>\n",
       "    .dataframe tbody tr th:only-of-type {\n",
       "        vertical-align: middle;\n",
       "    }\n",
       "\n",
       "    .dataframe tbody tr th {\n",
       "        vertical-align: top;\n",
       "    }\n",
       "\n",
       "    .dataframe thead th {\n",
       "        text-align: right;\n",
       "    }\n",
       "</style>\n",
       "<table border=\"1\" class=\"dataframe\">\n",
       "  <thead>\n",
       "    <tr style=\"text-align: right;\">\n",
       "      <th></th>\n",
       "      <th>Location</th>\n",
       "      <th>Time_Y</th>\n",
       "      <th>GNI_Y</th>\n",
       "      <th>LIR_Y</th>\n",
       "      <th>SIR_Y</th>\n",
       "      <th>IVC_Y</th>\n",
       "    </tr>\n",
       "  </thead>\n",
       "  <tbody>\n",
       "    <tr>\n",
       "      <th>0</th>\n",
       "      <td>AUS</td>\n",
       "      <td>1995</td>\n",
       "      <td>21649.133893</td>\n",
       "      <td>9.210896</td>\n",
       "      <td>8.193334</td>\n",
       "      <td>1.017562</td>\n",
       "    </tr>\n",
       "    <tr>\n",
       "      <th>1</th>\n",
       "      <td>AUS</td>\n",
       "      <td>1996</td>\n",
       "      <td>22507.576692</td>\n",
       "      <td>8.209207</td>\n",
       "      <td>7.713333</td>\n",
       "      <td>0.495874</td>\n",
       "    </tr>\n",
       "    <tr>\n",
       "      <th>2</th>\n",
       "      <td>AUS</td>\n",
       "      <td>1997</td>\n",
       "      <td>23706.226955</td>\n",
       "      <td>6.954918</td>\n",
       "      <td>7.543334</td>\n",
       "      <td>-0.588416</td>\n",
       "    </tr>\n",
       "    <tr>\n",
       "      <th>3</th>\n",
       "      <td>AUS</td>\n",
       "      <td>1998</td>\n",
       "      <td>24906.013150</td>\n",
       "      <td>5.492970</td>\n",
       "      <td>7.453333</td>\n",
       "      <td>-1.960363</td>\n",
       "    </tr>\n",
       "    <tr>\n",
       "      <th>4</th>\n",
       "      <td>AUS</td>\n",
       "      <td>1999</td>\n",
       "      <td>26356.744688</td>\n",
       "      <td>6.009312</td>\n",
       "      <td>7.486667</td>\n",
       "      <td>-1.477355</td>\n",
       "    </tr>\n",
       "  </tbody>\n",
       "</table>\n",
       "</div>"
      ],
      "text/plain": [
       "  Location  Time_Y         GNI_Y     LIR_Y     SIR_Y     IVC_Y\n",
       "0      AUS    1995  21649.133893  9.210896  8.193334  1.017562\n",
       "1      AUS    1996  22507.576692  8.209207  7.713333  0.495874\n",
       "2      AUS    1997  23706.226955  6.954918  7.543334 -0.588416\n",
       "3      AUS    1998  24906.013150  5.492970  7.453333 -1.960363\n",
       "4      AUS    1999  26356.744688  6.009312  7.486667 -1.477355"
      ]
     },
     "execution_count": 460,
     "metadata": {},
     "output_type": "execute_result"
    }
   ],
   "source": [
    "Value_Yealy['IVC_Y'] = Value_Yealy['LIR_Y']- Value_Yealy['SIR_Y']\n",
    "Value_Yealy.head()"
   ]
  },
  {
   "attachments": {},
   "cell_type": "markdown",
   "metadata": {},
   "source": [
    "### Substract SIR_Q from LIR_Q to find IVC_Q"
   ]
  },
  {
   "attachments": {},
   "cell_type": "markdown",
   "metadata": {},
   "source": [
    "- Substract SIR_Q from LIR_Q to find IVC_Q of Value_Quarterly"
   ]
  },
  {
   "cell_type": "code",
   "execution_count": 461,
   "metadata": {},
   "outputs": [
    {
     "data": {
      "text/html": [
       "<div>\n",
       "<style scoped>\n",
       "    .dataframe tbody tr th:only-of-type {\n",
       "        vertical-align: middle;\n",
       "    }\n",
       "\n",
       "    .dataframe tbody tr th {\n",
       "        vertical-align: top;\n",
       "    }\n",
       "\n",
       "    .dataframe thead th {\n",
       "        text-align: right;\n",
       "    }\n",
       "</style>\n",
       "<table border=\"1\" class=\"dataframe\">\n",
       "  <thead>\n",
       "    <tr style=\"text-align: right;\">\n",
       "      <th></th>\n",
       "      <th>Location</th>\n",
       "      <th>Time_Q</th>\n",
       "      <th>LIR_Q</th>\n",
       "      <th>SIR_Q</th>\n",
       "      <th>GDP_Q</th>\n",
       "      <th>UPR_Q</th>\n",
       "      <th>IVC_Q</th>\n",
       "    </tr>\n",
       "  </thead>\n",
       "  <tbody>\n",
       "    <tr>\n",
       "      <th>0</th>\n",
       "      <td>AUS</td>\n",
       "      <td>1995-Q1</td>\n",
       "      <td>10.206270</td>\n",
       "      <td>8.193334</td>\n",
       "      <td>0.012790</td>\n",
       "      <td>8.764897</td>\n",
       "      <td>2.012936</td>\n",
       "    </tr>\n",
       "    <tr>\n",
       "      <th>1</th>\n",
       "      <td>AUS</td>\n",
       "      <td>1995-Q2</td>\n",
       "      <td>9.253700</td>\n",
       "      <td>7.713333</td>\n",
       "      <td>0.419946</td>\n",
       "      <td>8.364933</td>\n",
       "      <td>1.540367</td>\n",
       "    </tr>\n",
       "    <tr>\n",
       "      <th>2</th>\n",
       "      <td>AUS</td>\n",
       "      <td>1995-Q3</td>\n",
       "      <td>8.964148</td>\n",
       "      <td>7.543334</td>\n",
       "      <td>2.261020</td>\n",
       "      <td>8.368115</td>\n",
       "      <td>1.420814</td>\n",
       "    </tr>\n",
       "    <tr>\n",
       "      <th>3</th>\n",
       "      <td>AUS</td>\n",
       "      <td>1995-Q4</td>\n",
       "      <td>8.419457</td>\n",
       "      <td>7.453333</td>\n",
       "      <td>-0.018881</td>\n",
       "      <td>8.389695</td>\n",
       "      <td>0.966124</td>\n",
       "    </tr>\n",
       "    <tr>\n",
       "      <th>4</th>\n",
       "      <td>AUS</td>\n",
       "      <td>1996-Q1</td>\n",
       "      <td>8.389683</td>\n",
       "      <td>7.486667</td>\n",
       "      <td>1.647736</td>\n",
       "      <td>8.399638</td>\n",
       "      <td>0.903016</td>\n",
       "    </tr>\n",
       "  </tbody>\n",
       "</table>\n",
       "</div>"
      ],
      "text/plain": [
       "  Location   Time_Q      LIR_Q     SIR_Q     GDP_Q     UPR_Q     IVC_Q\n",
       "0      AUS  1995-Q1  10.206270  8.193334  0.012790  8.764897  2.012936\n",
       "1      AUS  1995-Q2   9.253700  7.713333  0.419946  8.364933  1.540367\n",
       "2      AUS  1995-Q3   8.964148  7.543334  2.261020  8.368115  1.420814\n",
       "3      AUS  1995-Q4   8.419457  7.453333 -0.018881  8.389695  0.966124\n",
       "4      AUS  1996-Q1   8.389683  7.486667  1.647736  8.399638  0.903016"
      ]
     },
     "execution_count": 461,
     "metadata": {},
     "output_type": "execute_result"
    }
   ],
   "source": [
    "Value_Quarterly['IVC_Q'] = Value_Quarterly['LIR_Q'] - Value_Quarterly['SIR_Q']\n",
    "Value_Quarterly.head()"
   ]
  },
  {
   "attachments": {},
   "cell_type": "markdown",
   "metadata": {},
   "source": [
    "- Substract SIR_Q from LIR_Q to find IVC_Q of LIR_SIR_2023"
   ]
  },
  {
   "cell_type": "code",
   "execution_count": 462,
   "metadata": {},
   "outputs": [
    {
     "data": {
      "text/html": [
       "<div>\n",
       "<style scoped>\n",
       "    .dataframe tbody tr th:only-of-type {\n",
       "        vertical-align: middle;\n",
       "    }\n",
       "\n",
       "    .dataframe tbody tr th {\n",
       "        vertical-align: top;\n",
       "    }\n",
       "\n",
       "    .dataframe thead th {\n",
       "        text-align: right;\n",
       "    }\n",
       "</style>\n",
       "<table border=\"1\" class=\"dataframe\">\n",
       "  <thead>\n",
       "    <tr style=\"text-align: right;\">\n",
       "      <th></th>\n",
       "      <th>Location</th>\n",
       "      <th>Time_Q</th>\n",
       "      <th>LIR_Q</th>\n",
       "      <th>SIR_Q</th>\n",
       "      <th>IVC_Q</th>\n",
       "    </tr>\n",
       "  </thead>\n",
       "  <tbody>\n",
       "    <tr>\n",
       "      <th>0</th>\n",
       "      <td>AUS</td>\n",
       "      <td>2023-Q1</td>\n",
       "      <td>3.600000</td>\n",
       "      <td>3.473333</td>\n",
       "      <td>0.126667</td>\n",
       "    </tr>\n",
       "    <tr>\n",
       "      <th>1</th>\n",
       "      <td>AUT</td>\n",
       "      <td>2023-Q1</td>\n",
       "      <td>2.970333</td>\n",
       "      <td>2.631933</td>\n",
       "      <td>0.338400</td>\n",
       "    </tr>\n",
       "    <tr>\n",
       "      <th>2</th>\n",
       "      <td>BEL</td>\n",
       "      <td>2023-Q1</td>\n",
       "      <td>2.930000</td>\n",
       "      <td>2.631933</td>\n",
       "      <td>0.298067</td>\n",
       "    </tr>\n",
       "    <tr>\n",
       "      <th>3</th>\n",
       "      <td>CAN</td>\n",
       "      <td>2023-Q1</td>\n",
       "      <td>3.035103</td>\n",
       "      <td>4.742661</td>\n",
       "      <td>-1.707558</td>\n",
       "    </tr>\n",
       "    <tr>\n",
       "      <th>4</th>\n",
       "      <td>DNK</td>\n",
       "      <td>2023-Q1</td>\n",
       "      <td>2.509667</td>\n",
       "      <td>2.849375</td>\n",
       "      <td>-0.339708</td>\n",
       "    </tr>\n",
       "  </tbody>\n",
       "</table>\n",
       "</div>"
      ],
      "text/plain": [
       "  Location   Time_Q     LIR_Q     SIR_Q     IVC_Q\n",
       "0      AUS  2023-Q1  3.600000  3.473333  0.126667\n",
       "1      AUT  2023-Q1  2.970333  2.631933  0.338400\n",
       "2      BEL  2023-Q1  2.930000  2.631933  0.298067\n",
       "3      CAN  2023-Q1  3.035103  4.742661 -1.707558\n",
       "4      DNK  2023-Q1  2.509667  2.849375 -0.339708"
      ]
     },
     "execution_count": 462,
     "metadata": {},
     "output_type": "execute_result"
    }
   ],
   "source": [
    "LIR_SIR_2023['IVC_Q'] = LIR_SIR_2023['LIR_Q'] - LIR_SIR_2023['SIR_Q']\n",
    "LIR_SIR_2023.head()"
   ]
  },
  {
   "attachments": {},
   "cell_type": "markdown",
   "metadata": {},
   "source": [
    "### Collect the negative IVC_Y result"
   ]
  },
  {
   "cell_type": "code",
   "execution_count": 463,
   "metadata": {},
   "outputs": [
    {
     "data": {
      "text/html": [
       "<div>\n",
       "<style scoped>\n",
       "    .dataframe tbody tr th:only-of-type {\n",
       "        vertical-align: middle;\n",
       "    }\n",
       "\n",
       "    .dataframe tbody tr th {\n",
       "        vertical-align: top;\n",
       "    }\n",
       "\n",
       "    .dataframe thead th {\n",
       "        text-align: right;\n",
       "    }\n",
       "</style>\n",
       "<table border=\"1\" class=\"dataframe\">\n",
       "  <thead>\n",
       "    <tr style=\"text-align: right;\">\n",
       "      <th></th>\n",
       "      <th>Location</th>\n",
       "      <th>Time_Y</th>\n",
       "      <th>GNI_Y</th>\n",
       "      <th>LIR_Y</th>\n",
       "      <th>SIR_Y</th>\n",
       "      <th>IVC_Y</th>\n",
       "    </tr>\n",
       "  </thead>\n",
       "  <tbody>\n",
       "    <tr>\n",
       "      <th>2</th>\n",
       "      <td>AUS</td>\n",
       "      <td>1997</td>\n",
       "      <td>23706.226955</td>\n",
       "      <td>6.954918</td>\n",
       "      <td>7.543334</td>\n",
       "      <td>-0.588416</td>\n",
       "    </tr>\n",
       "    <tr>\n",
       "      <th>3</th>\n",
       "      <td>AUS</td>\n",
       "      <td>1998</td>\n",
       "      <td>24906.013150</td>\n",
       "      <td>5.492970</td>\n",
       "      <td>7.453333</td>\n",
       "      <td>-1.960363</td>\n",
       "    </tr>\n",
       "    <tr>\n",
       "      <th>4</th>\n",
       "      <td>AUS</td>\n",
       "      <td>1999</td>\n",
       "      <td>26356.744688</td>\n",
       "      <td>6.009312</td>\n",
       "      <td>7.486667</td>\n",
       "      <td>-1.477355</td>\n",
       "    </tr>\n",
       "    <tr>\n",
       "      <th>5</th>\n",
       "      <td>AUS</td>\n",
       "      <td>2000</td>\n",
       "      <td>27520.183006</td>\n",
       "      <td>6.314569</td>\n",
       "      <td>7.563334</td>\n",
       "      <td>-1.248765</td>\n",
       "    </tr>\n",
       "    <tr>\n",
       "      <th>6</th>\n",
       "      <td>AUS</td>\n",
       "      <td>2001</td>\n",
       "      <td>28745.141332</td>\n",
       "      <td>5.615264</td>\n",
       "      <td>7.130000</td>\n",
       "      <td>-1.514736</td>\n",
       "    </tr>\n",
       "  </tbody>\n",
       "</table>\n",
       "</div>"
      ],
      "text/plain": [
       "  Location  Time_Y         GNI_Y     LIR_Y     SIR_Y     IVC_Y\n",
       "2      AUS    1997  23706.226955  6.954918  7.543334 -0.588416\n",
       "3      AUS    1998  24906.013150  5.492970  7.453333 -1.960363\n",
       "4      AUS    1999  26356.744688  6.009312  7.486667 -1.477355\n",
       "5      AUS    2000  27520.183006  6.314569  7.563334 -1.248765\n",
       "6      AUS    2001  28745.141332  5.615264  7.130000 -1.514736"
      ]
     },
     "execution_count": 463,
     "metadata": {},
     "output_type": "execute_result"
    }
   ],
   "source": [
    "IVC_2022_Yneg = Value_Yealy[Value_Yealy['IVC_Y'] < 0]\n",
    "IVC_2022_Yneg.head()"
   ]
  },
  {
   "attachments": {},
   "cell_type": "markdown",
   "metadata": {},
   "source": [
    "### Collect the negative IVC_Q result"
   ]
  },
  {
   "attachments": {},
   "cell_type": "markdown",
   "metadata": {},
   "source": [
    "- Collect the negative IVC_Q result until 2022-Q4"
   ]
  },
  {
   "cell_type": "code",
   "execution_count": 464,
   "metadata": {},
   "outputs": [
    {
     "data": {
      "text/html": [
       "<div>\n",
       "<style scoped>\n",
       "    .dataframe tbody tr th:only-of-type {\n",
       "        vertical-align: middle;\n",
       "    }\n",
       "\n",
       "    .dataframe tbody tr th {\n",
       "        vertical-align: top;\n",
       "    }\n",
       "\n",
       "    .dataframe thead th {\n",
       "        text-align: right;\n",
       "    }\n",
       "</style>\n",
       "<table border=\"1\" class=\"dataframe\">\n",
       "  <thead>\n",
       "    <tr style=\"text-align: right;\">\n",
       "      <th></th>\n",
       "      <th>Location</th>\n",
       "      <th>Time_Q</th>\n",
       "      <th>LIR_Q</th>\n",
       "      <th>SIR_Q</th>\n",
       "      <th>GDP_Q</th>\n",
       "      <th>UPR_Q</th>\n",
       "      <th>IVC_Q</th>\n",
       "    </tr>\n",
       "  </thead>\n",
       "  <tbody>\n",
       "    <tr>\n",
       "      <th>22</th>\n",
       "      <td>AUS</td>\n",
       "      <td>2000-Q3</td>\n",
       "      <td>6.175162</td>\n",
       "      <td>6.420000</td>\n",
       "      <td>0.277602</td>\n",
       "      <td>5.988972</td>\n",
       "      <td>-0.244838</td>\n",
       "    </tr>\n",
       "    <tr>\n",
       "      <th>23</th>\n",
       "      <td>AUS</td>\n",
       "      <td>2000-Q4</td>\n",
       "      <td>5.880219</td>\n",
       "      <td>6.313334</td>\n",
       "      <td>-0.370983</td>\n",
       "      <td>6.171242</td>\n",
       "      <td>-0.433115</td>\n",
       "    </tr>\n",
       "    <tr>\n",
       "      <th>24</th>\n",
       "      <td>AUS</td>\n",
       "      <td>2001-Q1</td>\n",
       "      <td>5.285803</td>\n",
       "      <td>5.546667</td>\n",
       "      <td>1.035857</td>\n",
       "      <td>6.365891</td>\n",
       "      <td>-0.260864</td>\n",
       "    </tr>\n",
       "    <tr>\n",
       "      <th>39</th>\n",
       "      <td>AUS</td>\n",
       "      <td>2004-Q4</td>\n",
       "      <td>5.344444</td>\n",
       "      <td>5.416667</td>\n",
       "      <td>0.746480</td>\n",
       "      <td>5.117148</td>\n",
       "      <td>-0.072223</td>\n",
       "    </tr>\n",
       "    <tr>\n",
       "      <th>40</th>\n",
       "      <td>AUS</td>\n",
       "      <td>2005-Q1</td>\n",
       "      <td>5.467404</td>\n",
       "      <td>5.620000</td>\n",
       "      <td>0.759551</td>\n",
       "      <td>5.106397</td>\n",
       "      <td>-0.152596</td>\n",
       "    </tr>\n",
       "  </tbody>\n",
       "</table>\n",
       "</div>"
      ],
      "text/plain": [
       "   Location   Time_Q     LIR_Q     SIR_Q     GDP_Q     UPR_Q     IVC_Q\n",
       "22      AUS  2000-Q3  6.175162  6.420000  0.277602  5.988972 -0.244838\n",
       "23      AUS  2000-Q4  5.880219  6.313334 -0.370983  6.171242 -0.433115\n",
       "24      AUS  2001-Q1  5.285803  5.546667  1.035857  6.365891 -0.260864\n",
       "39      AUS  2004-Q4  5.344444  5.416667  0.746480  5.117148 -0.072223\n",
       "40      AUS  2005-Q1  5.467404  5.620000  0.759551  5.106397 -0.152596"
      ]
     },
     "execution_count": 464,
     "metadata": {},
     "output_type": "execute_result"
    }
   ],
   "source": [
    "IVC_2022_Qneg = Value_Quarterly[Value_Quarterly['IVC_Q'] < 0]\n",
    "IVC_2022_Qneg.head()"
   ]
  },
  {
   "attachments": {},
   "cell_type": "markdown",
   "metadata": {},
   "source": [
    "- Collect the 2023-Q1 negative IVC_Q result "
   ]
  },
  {
   "cell_type": "code",
   "execution_count": 465,
   "metadata": {},
   "outputs": [
    {
     "data": {
      "text/html": [
       "<div>\n",
       "<style scoped>\n",
       "    .dataframe tbody tr th:only-of-type {\n",
       "        vertical-align: middle;\n",
       "    }\n",
       "\n",
       "    .dataframe tbody tr th {\n",
       "        vertical-align: top;\n",
       "    }\n",
       "\n",
       "    .dataframe thead th {\n",
       "        text-align: right;\n",
       "    }\n",
       "</style>\n",
       "<table border=\"1\" class=\"dataframe\">\n",
       "  <thead>\n",
       "    <tr style=\"text-align: right;\">\n",
       "      <th></th>\n",
       "      <th>Location</th>\n",
       "      <th>Time_Q</th>\n",
       "      <th>LIR_Q</th>\n",
       "      <th>SIR_Q</th>\n",
       "      <th>IVC_Q</th>\n",
       "    </tr>\n",
       "  </thead>\n",
       "  <tbody>\n",
       "    <tr>\n",
       "      <th>3</th>\n",
       "      <td>CAN</td>\n",
       "      <td>2023-Q1</td>\n",
       "      <td>3.035103</td>\n",
       "      <td>4.742661</td>\n",
       "      <td>-1.707558</td>\n",
       "    </tr>\n",
       "    <tr>\n",
       "      <th>4</th>\n",
       "      <td>DNK</td>\n",
       "      <td>2023-Q1</td>\n",
       "      <td>2.509667</td>\n",
       "      <td>2.849375</td>\n",
       "      <td>-0.339708</td>\n",
       "    </tr>\n",
       "    <tr>\n",
       "      <th>6</th>\n",
       "      <td>DEU</td>\n",
       "      <td>2023-Q1</td>\n",
       "      <td>2.315568</td>\n",
       "      <td>2.631933</td>\n",
       "      <td>-0.316365</td>\n",
       "    </tr>\n",
       "    <tr>\n",
       "      <th>10</th>\n",
       "      <td>NOR</td>\n",
       "      <td>2023-Q1</td>\n",
       "      <td>3.061733</td>\n",
       "      <td>3.403333</td>\n",
       "      <td>-0.341600</td>\n",
       "    </tr>\n",
       "    <tr>\n",
       "      <th>13</th>\n",
       "      <td>SWE</td>\n",
       "      <td>2023-Q1</td>\n",
       "      <td>2.267267</td>\n",
       "      <td>2.980400</td>\n",
       "      <td>-0.713133</td>\n",
       "    </tr>\n",
       "  </tbody>\n",
       "</table>\n",
       "</div>"
      ],
      "text/plain": [
       "   Location   Time_Q     LIR_Q     SIR_Q     IVC_Q\n",
       "3       CAN  2023-Q1  3.035103  4.742661 -1.707558\n",
       "4       DNK  2023-Q1  2.509667  2.849375 -0.339708\n",
       "6       DEU  2023-Q1  2.315568  2.631933 -0.316365\n",
       "10      NOR  2023-Q1  3.061733  3.403333 -0.341600\n",
       "13      SWE  2023-Q1  2.267267  2.980400 -0.713133"
      ]
     },
     "execution_count": 465,
     "metadata": {},
     "output_type": "execute_result"
    }
   ],
   "source": [
    "IVC_2023_neg = LIR_SIR_2023[LIR_SIR_2023['IVC_Q'] < 0]\n",
    "IVC_2023_neg.head()"
   ]
  },
  {
   "attachments": {},
   "cell_type": "markdown",
   "metadata": {},
   "source": [
    "## Step 2: Find the country and period that economic recession happens\n",
    "\n",
    "Standard of Economic Recession that I choose\n",
    "- 1. GNI - One consecutive years of negative gross decline more than 1.5%. ex) If 2020_Y GNI is 1.5% lower than 2019 GNI_Y, 2019 year is defined as economic recession\n",
    "- 2. GDP - Two consecutive quarters of negative gross ex) If 2020-Q1 GDP_Q and 2019-Q4 GDP_Q is both negative, 2020-Q1 is defined as economic recession\n",
    "- 3. UPR - One consecutive years of positive gross rise more than 1.5%. ex) If 2020-Q1 UPR_Q is 1.5% higher than 2019-Q4, 2019-Q4 is defined as economic recesion\n",
    "\n"
   ]
  },
  {
   "attachments": {},
   "cell_type": "markdown",
   "metadata": {},
   "source": [
    "### Find economic recession with GNI_Y"
   ]
  },
  {
   "attachments": {},
   "cell_type": "markdown",
   "metadata": {},
   "source": [
    "- Define NEW_GNI_Y by substract between previous GNI_Y and current GNI_Y"
   ]
  },
  {
   "cell_type": "code",
   "execution_count": 466,
   "metadata": {},
   "outputs": [
    {
     "data": {
      "text/html": [
       "<div>\n",
       "<style scoped>\n",
       "    .dataframe tbody tr th:only-of-type {\n",
       "        vertical-align: middle;\n",
       "    }\n",
       "\n",
       "    .dataframe tbody tr th {\n",
       "        vertical-align: top;\n",
       "    }\n",
       "\n",
       "    .dataframe thead th {\n",
       "        text-align: right;\n",
       "    }\n",
       "</style>\n",
       "<table border=\"1\" class=\"dataframe\">\n",
       "  <thead>\n",
       "    <tr style=\"text-align: right;\">\n",
       "      <th></th>\n",
       "      <th>Location</th>\n",
       "      <th>Time_Y</th>\n",
       "      <th>GNI_Y</th>\n",
       "      <th>LIR_Y</th>\n",
       "      <th>SIR_Y</th>\n",
       "      <th>IVC_Y</th>\n",
       "      <th>NEW_GNI_Y</th>\n",
       "    </tr>\n",
       "  </thead>\n",
       "  <tbody>\n",
       "    <tr>\n",
       "      <th>0</th>\n",
       "      <td>AUS</td>\n",
       "      <td>1995</td>\n",
       "      <td>21649.133893</td>\n",
       "      <td>9.210896</td>\n",
       "      <td>8.193334</td>\n",
       "      <td>1.017562</td>\n",
       "      <td>3.965252</td>\n",
       "    </tr>\n",
       "    <tr>\n",
       "      <th>1</th>\n",
       "      <td>AUS</td>\n",
       "      <td>1996</td>\n",
       "      <td>22507.576692</td>\n",
       "      <td>8.209207</td>\n",
       "      <td>7.713333</td>\n",
       "      <td>0.495874</td>\n",
       "      <td>5.325541</td>\n",
       "    </tr>\n",
       "    <tr>\n",
       "      <th>2</th>\n",
       "      <td>AUS</td>\n",
       "      <td>1997</td>\n",
       "      <td>23706.226955</td>\n",
       "      <td>6.954918</td>\n",
       "      <td>7.543334</td>\n",
       "      <td>-0.588416</td>\n",
       "      <td>5.061059</td>\n",
       "    </tr>\n",
       "    <tr>\n",
       "      <th>3</th>\n",
       "      <td>AUS</td>\n",
       "      <td>1998</td>\n",
       "      <td>24906.013150</td>\n",
       "      <td>5.492970</td>\n",
       "      <td>7.453333</td>\n",
       "      <td>-1.960363</td>\n",
       "      <td>5.824824</td>\n",
       "    </tr>\n",
       "    <tr>\n",
       "      <th>4</th>\n",
       "      <td>AUS</td>\n",
       "      <td>1999</td>\n",
       "      <td>26356.744688</td>\n",
       "      <td>6.009312</td>\n",
       "      <td>7.486667</td>\n",
       "      <td>-1.477355</td>\n",
       "      <td>4.414196</td>\n",
       "    </tr>\n",
       "  </tbody>\n",
       "</table>\n",
       "</div>"
      ],
      "text/plain": [
       "  Location  Time_Y         GNI_Y     LIR_Y     SIR_Y     IVC_Y  NEW_GNI_Y\n",
       "0      AUS    1995  21649.133893  9.210896  8.193334  1.017562   3.965252\n",
       "1      AUS    1996  22507.576692  8.209207  7.713333  0.495874   5.325541\n",
       "2      AUS    1997  23706.226955  6.954918  7.543334 -0.588416   5.061059\n",
       "3      AUS    1998  24906.013150  5.492970  7.453333 -1.960363   5.824824\n",
       "4      AUS    1999  26356.744688  6.009312  7.486667 -1.477355   4.414196"
      ]
     },
     "execution_count": 466,
     "metadata": {},
     "output_type": "execute_result"
    }
   ],
   "source": [
    "country = Value_Yealy['Location'].unique()\n",
    "new_GNI_Y = pd.DataFrame()\n",
    "\n",
    "for i in country :\n",
    "    ex_GNI_Y = pd.DataFrame()\n",
    "    this_year_GNI_Y = Value_Yealy[Value_Yealy['Location'] == i]['GNI_Y'].tail(-1).reset_index(drop=True)\n",
    "    last_year_GNI_Y = Value_Yealy[Value_Yealy['Location'] == i]['GNI_Y'].head(Value_Yealy[Value_Yealy['Location'] == i]['GNI_Y'].shape[0] -1).reset_index(drop=True)\n",
    "    ex_GNI_Y = this_year_GNI_Y/last_year_GNI_Y*100-100\n",
    "    ex_GNI_Y.loc[len(ex_GNI_Y.index)] = np.nan\n",
    "    new_GNI_Y = pd.concat([new_GNI_Y, ex_GNI_Y], ignore_index = True)\n",
    "\n",
    "    \n",
    "Value_Yealy['NEW_GNI_Y'] = new_GNI_Y\n",
    "Value_Yealy.head()\n"
   ]
  },
  {
   "attachments": {},
   "cell_type": "markdown",
   "metadata": {},
   "source": [
    "- Find the NEW_GNI_Y that is smaller than 1.5%"
   ]
  },
  {
   "cell_type": "code",
   "execution_count": 467,
   "metadata": {},
   "outputs": [
    {
     "data": {
      "text/html": [
       "<div>\n",
       "<style scoped>\n",
       "    .dataframe tbody tr th:only-of-type {\n",
       "        vertical-align: middle;\n",
       "    }\n",
       "\n",
       "    .dataframe tbody tr th {\n",
       "        vertical-align: top;\n",
       "    }\n",
       "\n",
       "    .dataframe thead th {\n",
       "        text-align: right;\n",
       "    }\n",
       "</style>\n",
       "<table border=\"1\" class=\"dataframe\">\n",
       "  <thead>\n",
       "    <tr style=\"text-align: right;\">\n",
       "      <th></th>\n",
       "      <th>Location</th>\n",
       "      <th>Time_Y</th>\n",
       "      <th>GNI_Y</th>\n",
       "      <th>LIR_Y</th>\n",
       "      <th>SIR_Y</th>\n",
       "      <th>IVC_Y</th>\n",
       "      <th>NEW_GNI_Y</th>\n",
       "    </tr>\n",
       "  </thead>\n",
       "  <tbody>\n",
       "    <tr>\n",
       "      <th>41</th>\n",
       "      <td>AUT</td>\n",
       "      <td>2008</td>\n",
       "      <td>41660.642669</td>\n",
       "      <td>4.358525</td>\n",
       "      <td>5.696667</td>\n",
       "      <td>-1.338142</td>\n",
       "      <td>-1.802233</td>\n",
       "    </tr>\n",
       "    <tr>\n",
       "      <th>52</th>\n",
       "      <td>AUT</td>\n",
       "      <td>2019</td>\n",
       "      <td>59548.613171</td>\n",
       "      <td>0.062933</td>\n",
       "      <td>7.590000</td>\n",
       "      <td>-7.527067</td>\n",
       "      <td>-2.992645</td>\n",
       "    </tr>\n",
       "    <tr>\n",
       "      <th>80</th>\n",
       "      <td>BEL</td>\n",
       "      <td>2019</td>\n",
       "      <td>56340.906308</td>\n",
       "      <td>0.193333</td>\n",
       "      <td>2.453333</td>\n",
       "      <td>-2.260000</td>\n",
       "      <td>-2.201092</td>\n",
       "    </tr>\n",
       "    <tr>\n",
       "      <th>97</th>\n",
       "      <td>CAN</td>\n",
       "      <td>2008</td>\n",
       "      <td>39783.102761</td>\n",
       "      <td>3.605302</td>\n",
       "      <td>1.503333</td>\n",
       "      <td>2.101969</td>\n",
       "      <td>-3.988880</td>\n",
       "    </tr>\n",
       "    <tr>\n",
       "      <th>103</th>\n",
       "      <td>CAN</td>\n",
       "      <td>2014</td>\n",
       "      <td>45014.460327</td>\n",
       "      <td>2.230830</td>\n",
       "      <td>0.036667</td>\n",
       "      <td>2.194163</td>\n",
       "      <td>-2.285302</td>\n",
       "    </tr>\n",
       "  </tbody>\n",
       "</table>\n",
       "</div>"
      ],
      "text/plain": [
       "    Location  Time_Y         GNI_Y     LIR_Y     SIR_Y     IVC_Y  NEW_GNI_Y\n",
       "41       AUT    2008  41660.642669  4.358525  5.696667 -1.338142  -1.802233\n",
       "52       AUT    2019  59548.613171  0.062933  7.590000 -7.527067  -2.992645\n",
       "80       BEL    2019  56340.906308  0.193333  2.453333 -2.260000  -2.201092\n",
       "97       CAN    2008  39783.102761  3.605302  1.503333  2.101969  -3.988880\n",
       "103      CAN    2014  45014.460327  2.230830  0.036667  2.194163  -2.285302"
      ]
     },
     "execution_count": 467,
     "metadata": {},
     "output_type": "execute_result"
    }
   ],
   "source": [
    "GNI_Y_econ_rec = Value_Yealy[Value_Yealy['NEW_GNI_Y'] < -1.5]\n",
    "GNI_Y_econ_rec.head()"
   ]
  },
  {
   "attachments": {},
   "cell_type": "markdown",
   "metadata": {},
   "source": [
    "### Find economic recession with GDP_Q"
   ]
  },
  {
   "cell_type": "code",
   "execution_count": 468,
   "metadata": {},
   "outputs": [
    {
     "data": {
      "text/html": [
       "<div>\n",
       "<style scoped>\n",
       "    .dataframe tbody tr th:only-of-type {\n",
       "        vertical-align: middle;\n",
       "    }\n",
       "\n",
       "    .dataframe tbody tr th {\n",
       "        vertical-align: top;\n",
       "    }\n",
       "\n",
       "    .dataframe thead th {\n",
       "        text-align: right;\n",
       "    }\n",
       "</style>\n",
       "<table border=\"1\" class=\"dataframe\">\n",
       "  <thead>\n",
       "    <tr style=\"text-align: right;\">\n",
       "      <th></th>\n",
       "      <th>Location</th>\n",
       "      <th>Time_Q</th>\n",
       "      <th>LIR_Q</th>\n",
       "      <th>SIR_Q</th>\n",
       "      <th>GDP_Q</th>\n",
       "      <th>UPR_Q</th>\n",
       "      <th>IVC_Q</th>\n",
       "    </tr>\n",
       "  </thead>\n",
       "  <tbody>\n",
       "    <tr>\n",
       "      <th>100</th>\n",
       "      <td>AUS</td>\n",
       "      <td>2020-Q1</td>\n",
       "      <td>1.006667</td>\n",
       "      <td>0.770000</td>\n",
       "      <td>-0.168599</td>\n",
       "      <td>5.182653</td>\n",
       "      <td>0.236667</td>\n",
       "    </tr>\n",
       "    <tr>\n",
       "      <th>136</th>\n",
       "      <td>AUT</td>\n",
       "      <td>2001-Q1</td>\n",
       "      <td>5.394267</td>\n",
       "      <td>5.024167</td>\n",
       "      <td>-0.227455</td>\n",
       "      <td>3.633333</td>\n",
       "      <td>0.370100</td>\n",
       "    </tr>\n",
       "    <tr>\n",
       "      <th>166</th>\n",
       "      <td>AUT</td>\n",
       "      <td>2008-Q3</td>\n",
       "      <td>4.539700</td>\n",
       "      <td>4.860466</td>\n",
       "      <td>-0.644419</td>\n",
       "      <td>4.466667</td>\n",
       "      <td>-0.320766</td>\n",
       "    </tr>\n",
       "    <tr>\n",
       "      <th>167</th>\n",
       "      <td>AUT</td>\n",
       "      <td>2008-Q4</td>\n",
       "      <td>4.573300</td>\n",
       "      <td>4.981800</td>\n",
       "      <td>-2.263198</td>\n",
       "      <td>4.733333</td>\n",
       "      <td>-0.408500</td>\n",
       "    </tr>\n",
       "    <tr>\n",
       "      <th>168</th>\n",
       "      <td>AUT</td>\n",
       "      <td>2009-Q1</td>\n",
       "      <td>4.140400</td>\n",
       "      <td>4.214667</td>\n",
       "      <td>-1.778953</td>\n",
       "      <td>5.066667</td>\n",
       "      <td>-0.074267</td>\n",
       "    </tr>\n",
       "  </tbody>\n",
       "</table>\n",
       "</div>"
      ],
      "text/plain": [
       "    Location   Time_Q     LIR_Q     SIR_Q     GDP_Q     UPR_Q     IVC_Q\n",
       "100      AUS  2020-Q1  1.006667  0.770000 -0.168599  5.182653  0.236667\n",
       "136      AUT  2001-Q1  5.394267  5.024167 -0.227455  3.633333  0.370100\n",
       "166      AUT  2008-Q3  4.539700  4.860466 -0.644419  4.466667 -0.320766\n",
       "167      AUT  2008-Q4  4.573300  4.981800 -2.263198  4.733333 -0.408500\n",
       "168      AUT  2009-Q1  4.140400  4.214667 -1.778953  5.066667 -0.074267"
      ]
     },
     "execution_count": 468,
     "metadata": {},
     "output_type": "execute_result"
    }
   ],
   "source": [
    "GDP_Q_econ_rec = Value_Quarterly[(Value_Quarterly['GDP_Q'] <0) &(Value_Quarterly['GDP_Q'].shift(-1) <0)]\n",
    "GDP_Q_econ_rec.head()"
   ]
  },
  {
   "attachments": {},
   "cell_type": "markdown",
   "metadata": {},
   "source": [
    "### Find economic recession with UPR_Q"
   ]
  },
  {
   "attachments": {},
   "cell_type": "markdown",
   "metadata": {},
   "source": [
    "- Define NEW_UPR_Q by substract between current UPR_Q and previous UPR_Q"
   ]
  },
  {
   "cell_type": "code",
   "execution_count": 469,
   "metadata": {},
   "outputs": [],
   "source": [
    "new_UPR_Q = pd.DataFrame()\n",
    "\n",
    "for i in country :\n",
    "    ex_UPR_Q = pd.DataFrame()\n",
    "    this_year_UPR_Q = Value_Quarterly[Value_Quarterly['Location'] == i]['UPR_Q'].tail(-1).reset_index(drop=True)\n",
    "    last_year_UPR_Q = Value_Quarterly[Value_Quarterly['Location'] == i]['UPR_Q'].head(Value_Quarterly[Value_Quarterly['Location'] == i]['UPR_Q'].shape[0] -1).reset_index(drop=True)\n",
    "    ex_UPR_Q = this_year_UPR_Q-last_year_UPR_Q\n",
    "    ex_UPR_Q.loc[len(ex_UPR_Q.index)] = np.nan\n",
    "    new_UPR_Q = pd.concat([new_UPR_Q, ex_UPR_Q], ignore_index = True)\n",
    "    new_UPR_Q.reset_index()\n",
    "    \n",
    "Value_Quarterly['NEW_UPR_Q'] = new_UPR_Q\n"
   ]
  },
  {
   "attachments": {},
   "cell_type": "markdown",
   "metadata": {},
   "source": [
    "- Find the NEW_UPR_Q that is smaller than 1.5%"
   ]
  },
  {
   "cell_type": "code",
   "execution_count": 470,
   "metadata": {},
   "outputs": [
    {
     "data": {
      "text/html": [
       "<div>\n",
       "<style scoped>\n",
       "    .dataframe tbody tr th:only-of-type {\n",
       "        vertical-align: middle;\n",
       "    }\n",
       "\n",
       "    .dataframe tbody tr th {\n",
       "        vertical-align: top;\n",
       "    }\n",
       "\n",
       "    .dataframe thead th {\n",
       "        text-align: right;\n",
       "    }\n",
       "</style>\n",
       "<table border=\"1\" class=\"dataframe\">\n",
       "  <thead>\n",
       "    <tr style=\"text-align: right;\">\n",
       "      <th></th>\n",
       "      <th>Location</th>\n",
       "      <th>Time_Q</th>\n",
       "      <th>LIR_Q</th>\n",
       "      <th>SIR_Q</th>\n",
       "      <th>GDP_Q</th>\n",
       "      <th>UPR_Q</th>\n",
       "      <th>IVC_Q</th>\n",
       "      <th>NEW_UPR_Q</th>\n",
       "    </tr>\n",
       "  </thead>\n",
       "  <tbody>\n",
       "    <tr>\n",
       "      <th>100</th>\n",
       "      <td>AUS</td>\n",
       "      <td>2020-Q1</td>\n",
       "      <td>1.006667</td>\n",
       "      <td>0.770000</td>\n",
       "      <td>-0.168599</td>\n",
       "      <td>5.182653</td>\n",
       "      <td>0.236667</td>\n",
       "      <td>1.735324</td>\n",
       "    </tr>\n",
       "    <tr>\n",
       "      <th>212</th>\n",
       "      <td>AUT</td>\n",
       "      <td>2020-Q1</td>\n",
       "      <td>-0.109133</td>\n",
       "      <td>-0.402967</td>\n",
       "      <td>-2.459993</td>\n",
       "      <td>4.566667</td>\n",
       "      <td>0.293833</td>\n",
       "      <td>2.433333</td>\n",
       "    </tr>\n",
       "    <tr>\n",
       "      <th>436</th>\n",
       "      <td>CAN</td>\n",
       "      <td>2020-Q1</td>\n",
       "      <td>1.616548</td>\n",
       "      <td>1.859268</td>\n",
       "      <td>-2.128338</td>\n",
       "      <td>6.533333</td>\n",
       "      <td>-0.242720</td>\n",
       "      <td>6.833337</td>\n",
       "    </tr>\n",
       "    <tr>\n",
       "      <th>839</th>\n",
       "      <td>IRL</td>\n",
       "      <td>2008-Q4</td>\n",
       "      <td>4.026667</td>\n",
       "      <td>3.820333</td>\n",
       "      <td>-4.588043</td>\n",
       "      <td>8.533334</td>\n",
       "      <td>0.206334</td>\n",
       "      <td>2.333336</td>\n",
       "    </tr>\n",
       "    <tr>\n",
       "      <th>840</th>\n",
       "      <td>IRL</td>\n",
       "      <td>2009-Q1</td>\n",
       "      <td>4.376667</td>\n",
       "      <td>4.064833</td>\n",
       "      <td>0.117301</td>\n",
       "      <td>10.866670</td>\n",
       "      <td>0.311834</td>\n",
       "      <td>1.733330</td>\n",
       "    </tr>\n",
       "  </tbody>\n",
       "</table>\n",
       "</div>"
      ],
      "text/plain": [
       "    Location   Time_Q     LIR_Q     SIR_Q     GDP_Q      UPR_Q     IVC_Q  \\\n",
       "100      AUS  2020-Q1  1.006667  0.770000 -0.168599   5.182653  0.236667   \n",
       "212      AUT  2020-Q1 -0.109133 -0.402967 -2.459993   4.566667  0.293833   \n",
       "436      CAN  2020-Q1  1.616548  1.859268 -2.128338   6.533333 -0.242720   \n",
       "839      IRL  2008-Q4  4.026667  3.820333 -4.588043   8.533334  0.206334   \n",
       "840      IRL  2009-Q1  4.376667  4.064833  0.117301  10.866670  0.311834   \n",
       "\n",
       "     NEW_UPR_Q  \n",
       "100   1.735324  \n",
       "212   2.433333  \n",
       "436   6.833337  \n",
       "839   2.333336  \n",
       "840   1.733330  "
      ]
     },
     "execution_count": 470,
     "metadata": {},
     "output_type": "execute_result"
    }
   ],
   "source": [
    "UPR_Q_econ_rec = Value_Quarterly[Value_Quarterly['NEW_UPR_Q'] > 1.5]\n",
    "UPR_Q_econ_rec.head()"
   ]
  },
  {
   "attachments": {},
   "cell_type": "markdown",
   "metadata": {},
   "source": [
    "## Step 3: Check if there is a correlation between the data from the previous two steps"
   ]
  },
  {
   "attachments": {},
   "cell_type": "markdown",
   "metadata": {},
   "source": [
    "### Number of economic recession happens by each GDP_Q and UPR_Q with IVC_Q and percentage"
   ]
  },
  {
   "attachments": {},
   "cell_type": "markdown",
   "metadata": {},
   "source": [
    "- Number of negative IVC_Q and economic recssion happens by GDP_Q "
   ]
  },
  {
   "cell_type": "code",
   "execution_count": 471,
   "metadata": {},
   "outputs": [
    {
     "data": {
      "text/html": [
       "<div>\n",
       "<style scoped>\n",
       "    .dataframe tbody tr th:only-of-type {\n",
       "        vertical-align: middle;\n",
       "    }\n",
       "\n",
       "    .dataframe tbody tr th {\n",
       "        vertical-align: top;\n",
       "    }\n",
       "\n",
       "    .dataframe thead th {\n",
       "        text-align: right;\n",
       "    }\n",
       "</style>\n",
       "<table border=\"1\" class=\"dataframe\">\n",
       "  <thead>\n",
       "    <tr style=\"text-align: right;\">\n",
       "      <th></th>\n",
       "      <th>Location</th>\n",
       "      <th>Time_Q</th>\n",
       "      <th>LIR_Q</th>\n",
       "      <th>SIR_Q</th>\n",
       "      <th>GDP_Q</th>\n",
       "      <th>UPR_Q</th>\n",
       "      <th>IVC_Q</th>\n",
       "    </tr>\n",
       "  </thead>\n",
       "  <tbody>\n",
       "    <tr>\n",
       "      <th>0</th>\n",
       "      <td>AUT</td>\n",
       "      <td>2008-Q3</td>\n",
       "      <td>4.539700</td>\n",
       "      <td>4.860466</td>\n",
       "      <td>-0.644419</td>\n",
       "      <td>4.466667</td>\n",
       "      <td>-0.320766</td>\n",
       "    </tr>\n",
       "    <tr>\n",
       "      <th>1</th>\n",
       "      <td>AUT</td>\n",
       "      <td>2008-Q4</td>\n",
       "      <td>4.573300</td>\n",
       "      <td>4.981800</td>\n",
       "      <td>-2.263198</td>\n",
       "      <td>4.733333</td>\n",
       "      <td>-0.408500</td>\n",
       "    </tr>\n",
       "    <tr>\n",
       "      <th>2</th>\n",
       "      <td>AUT</td>\n",
       "      <td>2009-Q1</td>\n",
       "      <td>4.140400</td>\n",
       "      <td>4.214667</td>\n",
       "      <td>-1.778953</td>\n",
       "      <td>5.066667</td>\n",
       "      <td>-0.074267</td>\n",
       "    </tr>\n",
       "    <tr>\n",
       "      <th>3</th>\n",
       "      <td>BEL</td>\n",
       "      <td>2008-Q3</td>\n",
       "      <td>4.236667</td>\n",
       "      <td>4.480000</td>\n",
       "      <td>-0.584323</td>\n",
       "      <td>7.500000</td>\n",
       "      <td>-0.243333</td>\n",
       "    </tr>\n",
       "    <tr>\n",
       "      <th>4</th>\n",
       "      <td>BEL</td>\n",
       "      <td>2008-Q4</td>\n",
       "      <td>4.573333</td>\n",
       "      <td>4.860466</td>\n",
       "      <td>-2.168833</td>\n",
       "      <td>6.833333</td>\n",
       "      <td>-0.287133</td>\n",
       "    </tr>\n",
       "  </tbody>\n",
       "</table>\n",
       "</div>"
      ],
      "text/plain": [
       "  Location   Time_Q     LIR_Q     SIR_Q     GDP_Q     UPR_Q     IVC_Q\n",
       "0      AUT  2008-Q3  4.539700  4.860466 -0.644419  4.466667 -0.320766\n",
       "1      AUT  2008-Q4  4.573300  4.981800 -2.263198  4.733333 -0.408500\n",
       "2      AUT  2009-Q1  4.140400  4.214667 -1.778953  5.066667 -0.074267\n",
       "3      BEL  2008-Q3  4.236667  4.480000 -0.584323  7.500000 -0.243333\n",
       "4      BEL  2008-Q4  4.573333  4.860466 -2.168833  6.833333 -0.287133"
      ]
     },
     "execution_count": 471,
     "metadata": {},
     "output_type": "execute_result"
    }
   ],
   "source": [
    "IVC_GDP_Q = pd.merge(IVC_2022_Qneg,GDP_Q_econ_rec,how='inner')\n",
    "IVC_GDP_Q.head()"
   ]
  },
  {
   "cell_type": "code",
   "execution_count": 472,
   "metadata": {},
   "outputs": [
    {
     "data": {
      "text/plain": [
       "28"
      ]
     },
     "execution_count": 472,
     "metadata": {},
     "output_type": "execute_result"
    }
   ],
   "source": [
    "IVC_GDP_Q.shape[0]"
   ]
  },
  {
   "attachments": {},
   "cell_type": "markdown",
   "metadata": {},
   "source": [
    "- Percentage of negative IVC_Q and economic recssion happens by GDP_Q "
   ]
  },
  {
   "cell_type": "code",
   "execution_count": 473,
   "metadata": {},
   "outputs": [
    {
     "data": {
      "text/plain": [
       "13.526570048309178"
      ]
     },
     "execution_count": 473,
     "metadata": {},
     "output_type": "execute_result"
    }
   ],
   "source": [
    "IVC_GDP_Q.shape[0]/IVC_2022_Qneg.shape[0]*100"
   ]
  },
  {
   "attachments": {},
   "cell_type": "markdown",
   "metadata": {},
   "source": [
    "- Number of negative IVC_Q and economic recssion happens by UPR_Q "
   ]
  },
  {
   "cell_type": "code",
   "execution_count": 474,
   "metadata": {},
   "outputs": [
    {
     "data": {
      "text/html": [
       "<div>\n",
       "<style scoped>\n",
       "    .dataframe tbody tr th:only-of-type {\n",
       "        vertical-align: middle;\n",
       "    }\n",
       "\n",
       "    .dataframe tbody tr th {\n",
       "        vertical-align: top;\n",
       "    }\n",
       "\n",
       "    .dataframe thead th {\n",
       "        text-align: right;\n",
       "    }\n",
       "</style>\n",
       "<table border=\"1\" class=\"dataframe\">\n",
       "  <thead>\n",
       "    <tr style=\"text-align: right;\">\n",
       "      <th></th>\n",
       "      <th>Location</th>\n",
       "      <th>Time_Q</th>\n",
       "      <th>LIR_Q</th>\n",
       "      <th>SIR_Q</th>\n",
       "      <th>GDP_Q</th>\n",
       "      <th>UPR_Q</th>\n",
       "      <th>IVC_Q</th>\n",
       "      <th>NEW_UPR_Q</th>\n",
       "    </tr>\n",
       "  </thead>\n",
       "  <tbody>\n",
       "    <tr>\n",
       "      <th>0</th>\n",
       "      <td>CAN</td>\n",
       "      <td>2020-Q1</td>\n",
       "      <td>1.616548</td>\n",
       "      <td>1.859268</td>\n",
       "      <td>-2.128338</td>\n",
       "      <td>6.533333</td>\n",
       "      <td>-0.24272</td>\n",
       "      <td>6.833337</td>\n",
       "    </tr>\n",
       "  </tbody>\n",
       "</table>\n",
       "</div>"
      ],
      "text/plain": [
       "  Location   Time_Q     LIR_Q     SIR_Q     GDP_Q     UPR_Q    IVC_Q  \\\n",
       "0      CAN  2020-Q1  1.616548  1.859268 -2.128338  6.533333 -0.24272   \n",
       "\n",
       "   NEW_UPR_Q  \n",
       "0   6.833337  "
      ]
     },
     "execution_count": 474,
     "metadata": {},
     "output_type": "execute_result"
    }
   ],
   "source": [
    "IVC_UPR_Q = pd.merge(IVC_2022_Qneg,UPR_Q_econ_rec,how='inner')\n",
    "IVC_UPR_Q.head()"
   ]
  },
  {
   "cell_type": "code",
   "execution_count": 475,
   "metadata": {},
   "outputs": [
    {
     "data": {
      "text/plain": [
       "1"
      ]
     },
     "execution_count": 475,
     "metadata": {},
     "output_type": "execute_result"
    }
   ],
   "source": [
    "IVC_UPR_Q.shape[0]"
   ]
  },
  {
   "attachments": {},
   "cell_type": "markdown",
   "metadata": {},
   "source": [
    "- Percentage of negative IVC_Q and economic recssion happens by UPR_Q "
   ]
  },
  {
   "cell_type": "code",
   "execution_count": 476,
   "metadata": {},
   "outputs": [
    {
     "data": {
      "text/plain": [
       "0.4830917874396135"
      ]
     },
     "execution_count": 476,
     "metadata": {},
     "output_type": "execute_result"
    }
   ],
   "source": [
    "IVC_UPR_Q.shape[0]/IVC_2022_Qneg.shape[0]*100"
   ]
  },
  {
   "attachments": {},
   "cell_type": "markdown",
   "metadata": {},
   "source": [
    "### Number of economic recession happens by GNI_Y with IVC_Y"
   ]
  },
  {
   "attachments": {},
   "cell_type": "markdown",
   "metadata": {},
   "source": [
    "- Number of negative IVC_Y and economic recssion happens by GNI_Y "
   ]
  },
  {
   "cell_type": "code",
   "execution_count": 477,
   "metadata": {},
   "outputs": [
    {
     "data": {
      "text/html": [
       "<div>\n",
       "<style scoped>\n",
       "    .dataframe tbody tr th:only-of-type {\n",
       "        vertical-align: middle;\n",
       "    }\n",
       "\n",
       "    .dataframe tbody tr th {\n",
       "        vertical-align: top;\n",
       "    }\n",
       "\n",
       "    .dataframe thead th {\n",
       "        text-align: right;\n",
       "    }\n",
       "</style>\n",
       "<table border=\"1\" class=\"dataframe\">\n",
       "  <thead>\n",
       "    <tr style=\"text-align: right;\">\n",
       "      <th></th>\n",
       "      <th>Location</th>\n",
       "      <th>Time_Y</th>\n",
       "      <th>GNI_Y</th>\n",
       "      <th>LIR_Y</th>\n",
       "      <th>SIR_Y</th>\n",
       "      <th>IVC_Y</th>\n",
       "      <th>NEW_GNI_Y</th>\n",
       "    </tr>\n",
       "  </thead>\n",
       "  <tbody>\n",
       "    <tr>\n",
       "      <th>0</th>\n",
       "      <td>AUT</td>\n",
       "      <td>2008</td>\n",
       "      <td>41660.642669</td>\n",
       "      <td>4.358525</td>\n",
       "      <td>5.696667</td>\n",
       "      <td>-1.338142</td>\n",
       "      <td>-1.802233</td>\n",
       "    </tr>\n",
       "    <tr>\n",
       "      <th>1</th>\n",
       "      <td>AUT</td>\n",
       "      <td>2019</td>\n",
       "      <td>59548.613171</td>\n",
       "      <td>0.062933</td>\n",
       "      <td>7.590000</td>\n",
       "      <td>-7.527067</td>\n",
       "      <td>-2.992645</td>\n",
       "    </tr>\n",
       "    <tr>\n",
       "      <th>2</th>\n",
       "      <td>BEL</td>\n",
       "      <td>2019</td>\n",
       "      <td>56340.906308</td>\n",
       "      <td>0.193333</td>\n",
       "      <td>2.453333</td>\n",
       "      <td>-2.260000</td>\n",
       "      <td>-2.201092</td>\n",
       "    </tr>\n",
       "    <tr>\n",
       "      <th>3</th>\n",
       "      <td>DEU</td>\n",
       "      <td>2019</td>\n",
       "      <td>59329.093999</td>\n",
       "      <td>-0.253634</td>\n",
       "      <td>0.081467</td>\n",
       "      <td>-0.335101</td>\n",
       "      <td>-1.995127</td>\n",
       "    </tr>\n",
       "    <tr>\n",
       "      <th>4</th>\n",
       "      <td>ITA</td>\n",
       "      <td>2019</td>\n",
       "      <td>46187.956016</td>\n",
       "      <td>1.951412</td>\n",
       "      <td>4.737600</td>\n",
       "      <td>-2.786188</td>\n",
       "      <td>-5.443436</td>\n",
       "    </tr>\n",
       "  </tbody>\n",
       "</table>\n",
       "</div>"
      ],
      "text/plain": [
       "  Location  Time_Y         GNI_Y     LIR_Y     SIR_Y     IVC_Y  NEW_GNI_Y\n",
       "0      AUT    2008  41660.642669  4.358525  5.696667 -1.338142  -1.802233\n",
       "1      AUT    2019  59548.613171  0.062933  7.590000 -7.527067  -2.992645\n",
       "2      BEL    2019  56340.906308  0.193333  2.453333 -2.260000  -2.201092\n",
       "3      DEU    2019  59329.093999 -0.253634  0.081467 -0.335101  -1.995127\n",
       "4      ITA    2019  46187.956016  1.951412  4.737600 -2.786188  -5.443436"
      ]
     },
     "execution_count": 477,
     "metadata": {},
     "output_type": "execute_result"
    }
   ],
   "source": [
    "IVC_GNI_Y = pd.merge(IVC_2022_Yneg,GNI_Y_econ_rec,how='inner')\n",
    "IVC_GNI_Y.head()"
   ]
  },
  {
   "cell_type": "code",
   "execution_count": 478,
   "metadata": {},
   "outputs": [
    {
     "data": {
      "text/plain": [
       "8"
      ]
     },
     "execution_count": 478,
     "metadata": {},
     "output_type": "execute_result"
    }
   ],
   "source": [
    "IVC_GNI_Y.shape[0]"
   ]
  },
  {
   "attachments": {},
   "cell_type": "markdown",
   "metadata": {},
   "source": [
    "- Percentage of negative IVC_Y and economic recssion happens by GNI_Y"
   ]
  },
  {
   "cell_type": "code",
   "execution_count": 479,
   "metadata": {},
   "outputs": [
    {
     "data": {
      "text/plain": [
       "5.517241379310345"
      ]
     },
     "execution_count": 479,
     "metadata": {},
     "output_type": "execute_result"
    }
   ],
   "source": [
    "IVC_GNI_Y.shape[0]/IVC_2022_Yneg.shape[0]*100"
   ]
  },
  {
   "attachments": {},
   "cell_type": "markdown",
   "metadata": {},
   "source": [
    "Through the above results, it was found that IVC was related to GDP and GNI rather than UPR. And although the related figures are not large, it is thought to be helpful in predicting the future economic situation. However, since the correlation between IVC and GDP,GNI is not very high, it should be used only as a reference and should not be trusted with great confidence."
   ]
  },
  {
   "attachments": {},
   "cell_type": "markdown",
   "metadata": {},
   "source": [
    "### - Visualize negative IVC_Y and IVC_Q of most frequent and severe country until 2022 as an example with GDP_Q and GNI_Y"
   ]
  },
  {
   "attachments": {},
   "cell_type": "markdown",
   "metadata": {},
   "source": [
    "- Find negative IVC_Y of most severe country until 2022-Q4"
   ]
  },
  {
   "cell_type": "code",
   "execution_count": 480,
   "metadata": {},
   "outputs": [
    {
     "data": {
      "text/plain": [
       "'AUT'"
      ]
     },
     "execution_count": 480,
     "metadata": {},
     "output_type": "execute_result"
    }
   ],
   "source": [
    "severe_IVC_Y = IVC_2022_Yneg['IVC_Y'].idxmin()\n",
    "IVC_2022_Yneg.loc[severe_IVC_Y]['Location']"
   ]
  },
  {
   "attachments": {},
   "cell_type": "markdown",
   "metadata": {},
   "source": [
    "- Find negative IVC_Y of most frequent country until 2022-Q4"
   ]
  },
  {
   "cell_type": "code",
   "execution_count": 481,
   "metadata": {},
   "outputs": [
    {
     "data": {
      "text/plain": [
       "'AUT'"
      ]
     },
     "execution_count": 481,
     "metadata": {},
     "output_type": "execute_result"
    }
   ],
   "source": [
    "frequent_IVC_Y = IVC_2022_Yneg.pivot_table(index = ['Location'], aggfunc ='size')\n",
    "frequent_IVC_Y.idxmax()"
   ]
  },
  {
   "attachments": {},
   "cell_type": "markdown",
   "metadata": {},
   "source": [
    "- Find negative IVC_Y of most severe country until 2022-Q4"
   ]
  },
  {
   "cell_type": "code",
   "execution_count": 482,
   "metadata": {},
   "outputs": [
    {
     "data": {
      "text/plain": [
       "'NOR'"
      ]
     },
     "execution_count": 482,
     "metadata": {},
     "output_type": "execute_result"
    }
   ],
   "source": [
    "severe_IVC_Q = IVC_2022_Qneg['IVC_Q'].idxmin()\n",
    "IVC_2022_Qneg.loc[severe_IVC_Q]['Location']"
   ]
  },
  {
   "attachments": {},
   "cell_type": "markdown",
   "metadata": {},
   "source": [
    "- Find negative IVC_Y of most frequent country until 2022-Q4"
   ]
  },
  {
   "cell_type": "code",
   "execution_count": 483,
   "metadata": {},
   "outputs": [
    {
     "data": {
      "text/plain": [
       "'NOR'"
      ]
     },
     "execution_count": 483,
     "metadata": {},
     "output_type": "execute_result"
    }
   ],
   "source": [
    "frequent_IVC_Q = IVC_2022_Qneg.pivot_table(index = ['Location'], aggfunc ='size')\n",
    "frequent_IVC_Q.idxmax()"
   ]
  },
  {
   "attachments": {},
   "cell_type": "markdown",
   "metadata": {},
   "source": [
    "- Visualize two data as line chart"
   ]
  },
  {
   "cell_type": "code",
   "execution_count": 484,
   "metadata": {},
   "outputs": [
    {
     "data": {
      "image/png": "[encoded data removed]",
      "text/plain": [
       "<Figure size 864x432 with 1 Axes>"
      ]
     },
     "metadata": {
      "needs_background": "light"
     },
     "output_type": "display_data"
    },
    {
     "data": {
      "image/png": "[encoded data removed]",
      "text/plain": [
       "<Figure size 864x432 with 1 Axes>"
      ]
     },
     "metadata": {
      "needs_background": "light"
     },
     "output_type": "display_data"
    }
   ],
   "source": [
    "most_freq_IVC_Y = Value_Yealy[Value_Yealy['Location'] == frequent_IVC_Y.idxmax()]\n",
    "plt.figure(figsize=(12,6))\n",
    "\n",
    "plt.plot(most_freq_IVC_Y['Time_Y'], most_freq_IVC_Y['IVC_Y'], label=frequent_IVC_Y.idxmax()+\"_IVC\")\n",
    "plt.plot(most_freq_IVC_Y['Time_Y'], most_freq_IVC_Y['NEW_GNI_Y'], label =frequent_IVC_Y.idxmax()+\"_GNI\")\n",
    "plt.hlines(y = 0, xmin = 1995, xmax = 2022, linewidth=0.5, color='r')\n",
    "plt.legend()\n",
    "plt.show()\n",
    "\n",
    "most_freq_IVC_Q = Value_Quarterly[Value_Quarterly['Location'] == frequent_IVC_Q.idxmax()]\n",
    "plt.figure(figsize=(12,6))\n",
    "\n",
    "plt.plot(most_freq_IVC_Q['Time_Q'], most_freq_IVC_Q['IVC_Q'], label=frequent_IVC_Q.idxmax()+\"_IVC\")\n",
    "plt.plot(most_freq_IVC_Q['Time_Q'], most_freq_IVC_Q['GDP_Q'], label=frequent_IVC_Q.idxmax()+\"_GDP\")\n",
    "plt.plot(most_freq_IVC_Q['Time_Q'], most_freq_IVC_Q['NEW_UPR_Q'], label=frequent_IVC_Q.idxmax()+\"_UPR\")\n",
    "plt.xticks(ticks=most_freq_IVC_Q['Time_Q'], rotation=90)\n",
    "plt.locator_params(axis='x', nbins=len(most_freq_IVC_Q['Time_Q'])/4)\n",
    "plt.hlines(y=0, xmin=0, xmax=len(most_freq_IVC_Q['Time_Q']), linewidth=0.5, color='r')\n",
    "plt.legend()\n",
    "plt.show()"
   ]
  },
  {
   "attachments": {},
   "cell_type": "markdown",
   "metadata": {},
   "source": [
    "Even in Austria and Norway, the two countries with the most frequent and severe cases of IVC, there was no significant association with the economic recession. In other words, predicting economic recession with IVC is not applicable to all countries and should be used only as a light reference."
   ]
  },
  {
   "attachments": {},
   "cell_type": "markdown",
   "metadata": {},
   "source": [
    "## Additional: Predict economic recession with IVC data of 2023-Q1"
   ]
  },
  {
   "attachments": {},
   "cell_type": "markdown",
   "metadata": {},
   "source": [
    "- Visualize IVC_Q of 2023-Q1 as bar chart"
   ]
  },
  {
   "cell_type": "code",
   "execution_count": 485,
   "metadata": {},
   "outputs": [
    {
     "data": {
      "image/png": "[encoded data removed]",
      "text/plain": [
       "<Figure size 432x288 with 1 Axes>"
      ]
     },
     "metadata": {
      "needs_background": "light"
     },
     "output_type": "display_data"
    }
   ],
   "source": [
    "import matplotlib.pyplot as plt\n",
    "\n",
    "plt.bar(LIR_SIR_2023['Location'], LIR_SIR_2023['IVC_Q'])\n",
    "plt.xticks(rotation=90)\n",
    "plt.show()"
   ]
  },
  {
   "attachments": {},
   "cell_type": "markdown",
   "metadata": {},
   "source": [
    "Although there is no significant impact between the IVC and the economic downturn, there is some association, so Canada, Denmark, Germany, Norway, Sweden, the UK and the USA with a negative IVC in Q1 2023 should look closely for the economic recession."
   ]
  }
 ],
 "metadata": {
  "kernelspec": {
   "display_name": "Python 3 (ipykernel)",
   "language": "python",
   "name": "python3"
  },
  "language_info": {
   "codemirror_mode": {
    "name": "ipython",
    "version": 3
   },
   "file_extension": ".py",
   "mimetype": "text/x-python",
   "name": "python",
   "nbconvert_exporter": "python",
   "pygments_lexer": "ipython3",
   "version": "3.9.4"
  }
 },
 "nbformat": 4,
 "nbformat_minor": 1
}
